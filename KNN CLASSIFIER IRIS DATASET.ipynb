{
 "cells": [
  {
   "cell_type": "code",
   "execution_count": 72,
   "metadata": {},
   "outputs": [],
   "source": [
    "import numpy as np\n",
    "import matplotlib.pyplot as plt\n",
    "import pandas as pd"
   ]
  },
  {
   "cell_type": "markdown",
   "metadata": {},
   "source": [
    "# STEP 1:  BUILDING THE KNN CLASSIFIER"
   ]
  },
  {
   "cell_type": "code",
   "execution_count": 73,
   "metadata": {},
   "outputs": [],
   "source": [
    "data=pd.read_csv(\"Iris.csv\")"
   ]
  },
  {
   "cell_type": "code",
   "execution_count": 144,
   "metadata": {},
   "outputs": [
    {
     "data": {
      "text/html": [
       "<div>\n",
       "<style scoped>\n",
       "    .dataframe tbody tr th:only-of-type {\n",
       "        vertical-align: middle;\n",
       "    }\n",
       "\n",
       "    .dataframe tbody tr th {\n",
       "        vertical-align: top;\n",
       "    }\n",
       "\n",
       "    .dataframe thead th {\n",
       "        text-align: right;\n",
       "    }\n",
       "</style>\n",
       "<table border=\"1\" class=\"dataframe\">\n",
       "  <thead>\n",
       "    <tr style=\"text-align: right;\">\n",
       "      <th></th>\n",
       "      <th>Id</th>\n",
       "      <th>SepalLengthCm</th>\n",
       "      <th>SepalWidthCm</th>\n",
       "      <th>PetalLengthCm</th>\n",
       "      <th>PetalWidthCm</th>\n",
       "      <th>Species</th>\n",
       "    </tr>\n",
       "  </thead>\n",
       "  <tbody>\n",
       "    <tr>\n",
       "      <th>0</th>\n",
       "      <td>1</td>\n",
       "      <td>5.1</td>\n",
       "      <td>3.5</td>\n",
       "      <td>1.4</td>\n",
       "      <td>0.2</td>\n",
       "      <td>0</td>\n",
       "    </tr>\n",
       "    <tr>\n",
       "      <th>1</th>\n",
       "      <td>2</td>\n",
       "      <td>4.9</td>\n",
       "      <td>3.0</td>\n",
       "      <td>1.4</td>\n",
       "      <td>0.2</td>\n",
       "      <td>0</td>\n",
       "    </tr>\n",
       "    <tr>\n",
       "      <th>2</th>\n",
       "      <td>3</td>\n",
       "      <td>4.7</td>\n",
       "      <td>3.2</td>\n",
       "      <td>1.3</td>\n",
       "      <td>0.2</td>\n",
       "      <td>0</td>\n",
       "    </tr>\n",
       "    <tr>\n",
       "      <th>3</th>\n",
       "      <td>4</td>\n",
       "      <td>4.6</td>\n",
       "      <td>3.1</td>\n",
       "      <td>1.5</td>\n",
       "      <td>0.2</td>\n",
       "      <td>0</td>\n",
       "    </tr>\n",
       "    <tr>\n",
       "      <th>4</th>\n",
       "      <td>5</td>\n",
       "      <td>5.0</td>\n",
       "      <td>3.6</td>\n",
       "      <td>1.4</td>\n",
       "      <td>0.2</td>\n",
       "      <td>0</td>\n",
       "    </tr>\n",
       "  </tbody>\n",
       "</table>\n",
       "</div>"
      ],
      "text/plain": [
       "   Id  SepalLengthCm  SepalWidthCm  PetalLengthCm  PetalWidthCm  Species\n",
       "0   1            5.1           3.5            1.4           0.2        0\n",
       "1   2            4.9           3.0            1.4           0.2        0\n",
       "2   3            4.7           3.2            1.3           0.2        0\n",
       "3   4            4.6           3.1            1.5           0.2        0\n",
       "4   5            5.0           3.6            1.4           0.2        0"
      ]
     },
     "execution_count": 144,
     "metadata": {},
     "output_type": "execute_result"
    }
   ],
   "source": [
    "data.head()"
   ]
  },
  {
   "cell_type": "code",
   "execution_count": 75,
   "metadata": {},
   "outputs": [],
   "source": [
    "X=data.iloc[:,1:3].values"
   ]
  },
  {
   "cell_type": "code",
   "execution_count": 76,
   "metadata": {
    "scrolled": true
   },
   "outputs": [
    {
     "data": {
      "text/plain": [
       "(150, 2)"
      ]
     },
     "execution_count": 76,
     "metadata": {},
     "output_type": "execute_result"
    }
   ],
   "source": [
    "X.shape"
   ]
  },
  {
   "cell_type": "code",
   "execution_count": 77,
   "metadata": {},
   "outputs": [
    {
     "data": {
      "text/plain": [
       "Iris-virginica     50\n",
       "Iris-versicolor    50\n",
       "Iris-setosa        50\n",
       "Name: Species, dtype: int64"
      ]
     },
     "execution_count": 77,
     "metadata": {},
     "output_type": "execute_result"
    }
   ],
   "source": [
    "data['Species'].value_counts()"
   ]
  },
  {
   "cell_type": "code",
   "execution_count": 78,
   "metadata": {},
   "outputs": [],
   "source": [
    "data['Species'].replace({'Iris-setosa':0,'Iris-virginica':1,'Iris-versicolor':2},inplace=True)"
   ]
  },
  {
   "cell_type": "code",
   "execution_count": 79,
   "metadata": {},
   "outputs": [
    {
     "data": {
      "text/html": [
       "<div>\n",
       "<style scoped>\n",
       "    .dataframe tbody tr th:only-of-type {\n",
       "        vertical-align: middle;\n",
       "    }\n",
       "\n",
       "    .dataframe tbody tr th {\n",
       "        vertical-align: top;\n",
       "    }\n",
       "\n",
       "    .dataframe thead th {\n",
       "        text-align: right;\n",
       "    }\n",
       "</style>\n",
       "<table border=\"1\" class=\"dataframe\">\n",
       "  <thead>\n",
       "    <tr style=\"text-align: right;\">\n",
       "      <th></th>\n",
       "      <th>Id</th>\n",
       "      <th>SepalLengthCm</th>\n",
       "      <th>SepalWidthCm</th>\n",
       "      <th>PetalLengthCm</th>\n",
       "      <th>PetalWidthCm</th>\n",
       "      <th>Species</th>\n",
       "    </tr>\n",
       "  </thead>\n",
       "  <tbody>\n",
       "    <tr>\n",
       "      <th>0</th>\n",
       "      <td>1</td>\n",
       "      <td>5.1</td>\n",
       "      <td>3.5</td>\n",
       "      <td>1.4</td>\n",
       "      <td>0.2</td>\n",
       "      <td>0</td>\n",
       "    </tr>\n",
       "    <tr>\n",
       "      <th>1</th>\n",
       "      <td>2</td>\n",
       "      <td>4.9</td>\n",
       "      <td>3.0</td>\n",
       "      <td>1.4</td>\n",
       "      <td>0.2</td>\n",
       "      <td>0</td>\n",
       "    </tr>\n",
       "    <tr>\n",
       "      <th>2</th>\n",
       "      <td>3</td>\n",
       "      <td>4.7</td>\n",
       "      <td>3.2</td>\n",
       "      <td>1.3</td>\n",
       "      <td>0.2</td>\n",
       "      <td>0</td>\n",
       "    </tr>\n",
       "    <tr>\n",
       "      <th>3</th>\n",
       "      <td>4</td>\n",
       "      <td>4.6</td>\n",
       "      <td>3.1</td>\n",
       "      <td>1.5</td>\n",
       "      <td>0.2</td>\n",
       "      <td>0</td>\n",
       "    </tr>\n",
       "    <tr>\n",
       "      <th>4</th>\n",
       "      <td>5</td>\n",
       "      <td>5.0</td>\n",
       "      <td>3.6</td>\n",
       "      <td>1.4</td>\n",
       "      <td>0.2</td>\n",
       "      <td>0</td>\n",
       "    </tr>\n",
       "  </tbody>\n",
       "</table>\n",
       "</div>"
      ],
      "text/plain": [
       "   Id  SepalLengthCm  SepalWidthCm  PetalLengthCm  PetalWidthCm  Species\n",
       "0   1            5.1           3.5            1.4           0.2        0\n",
       "1   2            4.9           3.0            1.4           0.2        0\n",
       "2   3            4.7           3.2            1.3           0.2        0\n",
       "3   4            4.6           3.1            1.5           0.2        0\n",
       "4   5            5.0           3.6            1.4           0.2        0"
      ]
     },
     "execution_count": 79,
     "metadata": {},
     "output_type": "execute_result"
    }
   ],
   "source": [
    "data.head()"
   ]
  },
  {
   "cell_type": "code",
   "execution_count": 80,
   "metadata": {},
   "outputs": [],
   "source": [
    "y=data.iloc[:,-1].values"
   ]
  },
  {
   "cell_type": "code",
   "execution_count": 81,
   "metadata": {},
   "outputs": [
    {
     "data": {
      "text/plain": [
       "(150,)"
      ]
     },
     "execution_count": 81,
     "metadata": {},
     "output_type": "execute_result"
    }
   ],
   "source": [
    "y.shape"
   ]
  },
  {
   "cell_type": "code",
   "execution_count": 82,
   "metadata": {},
   "outputs": [],
   "source": [
    "#WE WILL DIVIDE THE DATA INTO TRAINING AND TESTING PART\n",
    "from sklearn.model_selection import train_test_split\n",
    "X_train,X_test,y_train,y_test=train_test_split(X,y,test_size=0.20) #WE WILL TAKE ONLY 20% OF THE DATA AS TEST DATA REST EVERYTHING AS TRAIN DATA"
   ]
  },
  {
   "cell_type": "code",
   "execution_count": 83,
   "metadata": {},
   "outputs": [
    {
     "data": {
      "text/plain": [
       "(120, 2)"
      ]
     },
     "execution_count": 83,
     "metadata": {},
     "output_type": "execute_result"
    }
   ],
   "source": [
    "X_train.shape"
   ]
  },
  {
   "cell_type": "code",
   "execution_count": 84,
   "metadata": {},
   "outputs": [
    {
     "data": {
      "text/plain": [
       "(30, 2)"
      ]
     },
     "execution_count": 84,
     "metadata": {},
     "output_type": "execute_result"
    }
   ],
   "source": [
    "X_test.shape"
   ]
  },
  {
   "cell_type": "code",
   "execution_count": 85,
   "metadata": {},
   "outputs": [
    {
     "data": {
      "text/plain": [
       "(120,)"
      ]
     },
     "execution_count": 85,
     "metadata": {},
     "output_type": "execute_result"
    }
   ],
   "source": [
    "y_train.shape #X TRAIN AND Y TRAIN MUST BE EQUAL"
   ]
  },
  {
   "cell_type": "code",
   "execution_count": 86,
   "metadata": {},
   "outputs": [
    {
     "data": {
      "text/plain": [
       "(30,)"
      ]
     },
     "execution_count": 86,
     "metadata": {},
     "output_type": "execute_result"
    }
   ],
   "source": [
    "y_test.shape"
   ]
  },
  {
   "cell_type": "code",
   "execution_count": 87,
   "metadata": {},
   "outputs": [],
   "source": [
    "#we will import this class because the difference between the columns is very much and if we will calculate the distance it will be very much diffrent for the first two points\n",
    "from sklearn.preprocessing import StandardScaler\n",
    "scaler=StandardScaler()"
   ]
  },
  {
   "cell_type": "code",
   "execution_count": 88,
   "metadata": {},
   "outputs": [
    {
     "data": {
      "text/plain": [
       "array([[ 0.74692126, -0.33388442],\n",
       "       [-0.96498559,  1.2506518 ],\n",
       "       [-0.47586934,  0.79792717],\n",
       "       [ 0.0132469 , -0.78660905],\n",
       "       [-0.96498559, -1.69205832],\n",
       "       [ 1.48059562,  0.34520253],\n",
       "       [ 0.50236314,  0.79792717],\n",
       "       [ 0.6246422 , -0.56024674],\n",
       "       [-0.35359028,  2.60882571],\n",
       "       [ 0.86920032, -0.1075221 ],\n",
       "       [-0.23131122, -0.1075221 ],\n",
       "       [-0.35359028, -1.23933369],\n",
       "       [ 0.99147938, -0.1075221 ],\n",
       "       [ 0.74692126, -0.56024674],\n",
       "       [ 0.25780502, -0.78660905],\n",
       "       [ 2.58110717,  1.70337644],\n",
       "       [ 0.25780502, -1.91842064],\n",
       "       [ 0.50236314, -0.56024674],\n",
       "       [ 0.13552596, -0.1075221 ],\n",
       "       [ 2.33654905,  1.70337644],\n",
       "       [-0.47586934,  1.92973876],\n",
       "       [-1.20954371,  0.79792717],\n",
       "       [-1.45410183,  0.11884022],\n",
       "       [-1.33182277,  0.34520253],\n",
       "       [-1.08726465,  0.11884022],\n",
       "       [ 0.86920032, -0.56024674],\n",
       "       [ 0.74692126,  0.11884022],\n",
       "       [-1.82093901, -0.1075221 ],\n",
       "       [-0.10903216,  3.06155034],\n",
       "       [ 0.25780502, -1.91842064],\n",
       "       [-0.84270653,  1.47701412],\n",
       "       [-0.84270653,  1.70337644],\n",
       "       [ 0.86920032,  0.34520253],\n",
       "       [-0.72042746,  2.38246339],\n",
       "       [-1.08726465, -0.1075221 ],\n",
       "       [-0.47586934,  0.79792717],\n",
       "       [ 0.6246422 , -1.23933369],\n",
       "       [-0.35359028, -1.46569601],\n",
       "       [-0.72042746,  1.02428949],\n",
       "       [ 0.38008408, -0.33388442],\n",
       "       [ 0.25780502, -0.1075221 ],\n",
       "       [ 0.74692126,  0.34520253],\n",
       "       [-1.20954371, -0.1075221 ],\n",
       "       [-1.20954371, -0.1075221 ],\n",
       "       [ 0.6246422 , -1.23933369],\n",
       "       [-0.35359028, -1.46569601],\n",
       "       [-1.69865995, -0.1075221 ],\n",
       "       [-0.10903216, -0.1075221 ],\n",
       "       [ 1.35831656,  0.11884022],\n",
       "       [ 1.11375844,  0.11884022],\n",
       "       [-0.84270653, -1.23933369],\n",
       "       [-0.35359028,  1.02428949],\n",
       "       [ 2.33654905, -0.56024674],\n",
       "       [-0.23131122, -1.23933369],\n",
       "       [-1.57638089, -1.69205832],\n",
       "       [ 1.11375844,  0.57156485],\n",
       "       [-0.84270653,  1.02428949],\n",
       "       [ 0.50236314, -0.33388442],\n",
       "       [ 0.50236314, -1.91842064],\n",
       "       [ 0.6246422 ,  0.57156485],\n",
       "       [-1.20954371,  0.11884022],\n",
       "       [-0.84270653,  1.70337644],\n",
       "       [-0.47586934,  1.47701412],\n",
       "       [-0.10903216, -0.56024674],\n",
       "       [-0.84270653,  1.70337644],\n",
       "       [-0.84270653,  0.79792717],\n",
       "       [ 1.11375844,  0.11884022],\n",
       "       [-1.20954371,  0.79792717],\n",
       "       [-1.45410183,  1.2506518 ],\n",
       "       [ 0.25780502, -0.33388442],\n",
       "       [-0.96498559, -2.37114528],\n",
       "       [-0.84270653,  0.57156485],\n",
       "       [ 1.60287468, -0.1075221 ],\n",
       "       [-0.96498559,  0.57156485],\n",
       "       [-1.33182277,  0.34520253],\n",
       "       [ 0.6246422 ,  0.57156485],\n",
       "       [-1.08726465, -1.46569601],\n",
       "       [ 0.99147938, -0.33388442],\n",
       "       [-0.23131122, -0.1075221 ],\n",
       "       [ 0.0132469 , -0.56024674],\n",
       "       [-0.5981484 ,  1.47701412],\n",
       "       [ 0.6246422 , -0.78660905],\n",
       "       [ 1.11375844, -0.1075221 ],\n",
       "       [ 0.38008408, -0.56024674],\n",
       "       [ 1.35831656,  0.11884022],\n",
       "       [-0.47586934,  1.92973876],\n",
       "       [-0.35359028, -1.01297137],\n",
       "       [-0.10903216, -0.33388442],\n",
       "       [ 0.6246422 , -1.69205832],\n",
       "       [-1.69865995, -0.33388442],\n",
       "       [-0.47586934, -0.1075221 ],\n",
       "       [ 0.0132469 , -0.78660905],\n",
       "       [-0.72042746, -0.78660905],\n",
       "       [ 0.86920032, -0.1075221 ],\n",
       "       [ 1.11375844, -0.1075221 ],\n",
       "       [-1.69865995,  0.34520253],\n",
       "       [-0.96498559,  0.34520253],\n",
       "       [ 1.84743281, -0.33388442],\n",
       "       [-1.08726465,  0.11884022],\n",
       "       [-0.96498559,  0.79792717],\n",
       "       [-0.10903216, -0.56024674],\n",
       "       [ 0.74692126, -0.78660905],\n",
       "       [ 2.33654905, -0.1075221 ],\n",
       "       [ 1.2360375 ,  0.34520253],\n",
       "       [ 1.35831656,  0.11884022],\n",
       "       [-0.10903216, -1.01297137],\n",
       "       [-1.45410183,  0.79792717],\n",
       "       [-0.96498559,  0.79792717],\n",
       "       [-0.96498559,  1.02428949],\n",
       "       [ 0.13552596, -0.1075221 ],\n",
       "       [ 0.38008408, -0.1075221 ],\n",
       "       [ 1.11375844, -1.23933369],\n",
       "       [ 1.11375844,  0.11884022],\n",
       "       [-0.10903216, -1.23933369],\n",
       "       [ 2.21426999, -0.1075221 ],\n",
       "       [-0.23131122, -0.56024674],\n",
       "       [-0.23131122, -0.78660905],\n",
       "       [ 0.0132469 , -0.78660905],\n",
       "       [ 0.6246422 , -0.33388442],\n",
       "       [ 1.2360375 , -0.1075221 ]])"
      ]
     },
     "execution_count": 88,
     "metadata": {},
     "output_type": "execute_result"
    }
   ],
   "source": [
    "#standardization operation\n",
    "X_train=scaler.fit_transform(X_train)\n",
    "X_train"
   ]
  },
  {
   "cell_type": "code",
   "execution_count": 89,
   "metadata": {},
   "outputs": [
    {
     "data": {
      "text/plain": [
       "array([[ 0.0132469 , -0.78660905],\n",
       "       [ 0.6246422 ,  0.79792717],\n",
       "       [ 0.38008408, -0.1075221 ],\n",
       "       [-1.45410183,  0.34520253],\n",
       "       [-1.08726465,  0.11884022],\n",
       "       [ 1.72515375,  0.34520253],\n",
       "       [ 1.11375844,  0.57156485],\n",
       "       [ 0.0132469 ,  2.15610107],\n",
       "       [-0.96498559, -0.1075221 ],\n",
       "       [-0.10903216,  1.70337644],\n",
       "       [ 0.86920032, -0.1075221 ],\n",
       "       [-0.96498559,  1.02428949],\n",
       "       [ 1.72515375,  1.2506518 ],\n",
       "       [ 1.2360375 , -0.56024674],\n",
       "       [ 0.38008408, -1.01297137],\n",
       "       [ 0.74692126,  0.34520253],\n",
       "       [ 0.0132469 , -1.01297137],\n",
       "       [ 0.74692126, -0.56024674],\n",
       "       [ 0.38008408, -0.56024674],\n",
       "       [-0.35359028, -1.69205832],\n",
       "       [-0.84270653,  1.02428949],\n",
       "       [-0.72042746,  0.79792717],\n",
       "       [ 0.13552596,  0.34520253],\n",
       "       [ 2.33654905, -1.01297137],\n",
       "       [ 1.96971187, -0.56024674],\n",
       "       [ 0.25780502,  0.79792717],\n",
       "       [ 1.35831656,  0.34520253],\n",
       "       [ 1.72515375, -0.1075221 ],\n",
       "       [-1.08726465, -1.23933369],\n",
       "       [-0.23131122, -0.33388442]])"
      ]
     },
     "execution_count": 89,
     "metadata": {},
     "output_type": "execute_result"
    }
   ],
   "source": [
    "X_test=scaler.transform(X_test)\n",
    "X_test"
   ]
  },
  {
   "cell_type": "code",
   "execution_count": 90,
   "metadata": {},
   "outputs": [
    {
     "data": {
      "text/plain": [
       "10.954451150103322"
      ]
     },
     "execution_count": 90,
     "metadata": {},
     "output_type": "execute_result"
    }
   ],
   "source": [
    "#CALCULATION OF K\n",
    "#1st method\n",
    "np.sqrt(X_train.shape[0])\n"
   ]
  },
  {
   "cell_type": "code",
   "execution_count": 91,
   "metadata": {},
   "outputs": [],
   "source": [
    "k=11"
   ]
  },
  {
   "cell_type": "code",
   "execution_count": 92,
   "metadata": {},
   "outputs": [],
   "source": [
    "from sklearn.neighbors import KNeighborsClassifier\n",
    "#we will create an object of this class knn\n",
    "knn=KNeighborsClassifier(n_neighbors=k) #it requires an input where you tell how many neighbors are required"
   ]
  },
  {
   "cell_type": "code",
   "execution_count": 93,
   "metadata": {},
   "outputs": [
    {
     "data": {
      "text/plain": [
       "KNeighborsClassifier(algorithm='auto', leaf_size=30, metric='minkowski',\n",
       "                     metric_params=None, n_jobs=None, n_neighbors=11, p=2,\n",
       "                     weights='uniform')"
      ]
     },
     "execution_count": 93,
     "metadata": {},
     "output_type": "execute_result"
    }
   ],
   "source": [
    "#TRAINING OUR MODEL\n",
    "knn.fit(X_train,y_train)"
   ]
  },
  {
   "cell_type": "code",
   "execution_count": 94,
   "metadata": {},
   "outputs": [],
   "source": [
    "# WE HAVE TRAINED OUR MODEL"
   ]
  },
  {
   "cell_type": "code",
   "execution_count": 95,
   "metadata": {},
   "outputs": [],
   "source": [
    "y_pred=knn.predict(X_test)"
   ]
  },
  {
   "cell_type": "code",
   "execution_count": 96,
   "metadata": {},
   "outputs": [
    {
     "data": {
      "text/plain": [
       "(30,)"
      ]
     },
     "execution_count": 96,
     "metadata": {},
     "output_type": "execute_result"
    }
   ],
   "source": [
    "y_pred.shape #Y_PRED SHOULD BE EQUAL TO Y_TEST"
   ]
  },
  {
   "cell_type": "code",
   "execution_count": 97,
   "metadata": {},
   "outputs": [
    {
     "data": {
      "text/plain": [
       "0.8"
      ]
     },
     "execution_count": 97,
     "metadata": {},
     "output_type": "execute_result"
    }
   ],
   "source": [
    "#to check how accurate our algorithm was\n",
    "from sklearn.metrics import accuracy_score\n",
    "accuracy_score(y_test,y_pred)"
   ]
  },
  {
   "cell_type": "code",
   "execution_count": 98,
   "metadata": {},
   "outputs": [
    {
     "data": {
      "text/plain": [
       "array([[ 8,  0,  0],\n",
       "       [ 0, 11,  3],\n",
       "       [ 0,  3,  5]], dtype=int64)"
      ]
     },
     "execution_count": 98,
     "metadata": {},
     "output_type": "execute_result"
    }
   ],
   "source": [
    "#to calculate the confusion matrix\n",
    "from sklearn.metrics import confusion_matrix\n",
    "confusion_matrix(y_test,y_pred)"
   ]
  },
  {
   "cell_type": "code",
   "execution_count": 106,
   "metadata": {},
   "outputs": [],
   "source": [
    "def predict_output():\n",
    "    sepal_length=float(input(\"ENTER THE SEPAL LENGTH:\"))\n",
    "    sepal_width=float(input(\"ENTER THE SEPAL WIDTH:\"))\n",
    "\n",
    "    \n",
    "    #WE WILL CONVERT ALL THESE VALUES TO A NUMPY ARRAY\n",
    "    X_new=np.array([[sepal_length],[sepal_width]]).reshape(1,2)\n",
    "    X_new=scaler.transform(X_new) #TO SCALE DOWN SEPAL LENGTH AND SEPAL BREATH INTO THE RANGE OF AGE\n",
    "    \n",
    "    #return knn.predict(X_new)[0]  \n",
    "    if knn.predict(X_new)[0]==0:\n",
    "        return \"Iris-Sentosa\"\n",
    "    \n",
    "    elif knn.predict(X_new)[0]==1:\n",
    "        return \"Iris-Virginica\"\n",
    "                    \n",
    "    else:\n",
    "         return \"Iris-versicolor\"            \n",
    "                    \n"
   ]
  },
  {
   "cell_type": "code",
   "execution_count": 117,
   "metadata": {},
   "outputs": [
    {
     "name": "stdout",
     "output_type": "stream",
     "text": [
      "ENTER THE SEPAL LENGTH:5.1\n",
      "ENTER THE SEPAL WIDTH:3.5\n"
     ]
    },
    {
     "data": {
      "text/plain": [
       "'Iris-Sentosa'"
      ]
     },
     "execution_count": 117,
     "metadata": {},
     "output_type": "execute_result"
    }
   ],
   "source": [
    "predict_output()"
   ]
  },
  {
   "cell_type": "markdown",
   "metadata": {},
   "source": [
    "# STEP 2: CREATING MESHGRIDS"
   ]
  },
  {
   "cell_type": "code",
   "execution_count": 118,
   "metadata": {},
   "outputs": [],
   "source": [
    "a=np.arange(start=X_train[:,0].min()-1,stop=X_train[:,0].max()+1,step=0.01)\n",
    "b=np.arange(start=X_train[:,1].min()-1,stop=X_train[:,1].max()+1,step=0.01)\n",
    "\n",
    "XX,YY=np.meshgrid(a,b)"
   ]
  },
  {
   "cell_type": "code",
   "execution_count": 119,
   "metadata": {},
   "outputs": [
    {
     "data": {
      "text/plain": [
       "(744, 641)"
      ]
     },
     "execution_count": 119,
     "metadata": {},
     "output_type": "execute_result"
    }
   ],
   "source": [
    "XX.shape"
   ]
  },
  {
   "cell_type": "code",
   "execution_count": 120,
   "metadata": {},
   "outputs": [
    {
     "data": {
      "text/plain": [
       "(744, 641)"
      ]
     },
     "execution_count": 120,
     "metadata": {},
     "output_type": "execute_result"
    }
   ],
   "source": [
    "YY.shape"
   ]
  },
  {
   "cell_type": "markdown",
   "metadata": {},
   "source": [
    "# STEP 3: CLASSIFYING EVERY POINT ON THE MESHGRIDS "
   ]
  },
  {
   "cell_type": "code",
   "execution_count": 135,
   "metadata": {},
   "outputs": [],
   "source": [
    "input_array=np.array([XX.ravel(),YY.ravel()]).T\n",
    "labels=knn.predict(input_array)"
   ]
  },
  {
   "cell_type": "code",
   "execution_count": 136,
   "metadata": {},
   "outputs": [
    {
     "data": {
      "text/plain": [
       "(476904,)"
      ]
     },
     "execution_count": 136,
     "metadata": {},
     "output_type": "execute_result"
    }
   ],
   "source": [
    "labels.shape"
   ]
  },
  {
   "cell_type": "code",
   "execution_count": 115,
   "metadata": {},
   "outputs": [
    {
     "data": {
      "text/plain": [
       "476904"
      ]
     },
     "execution_count": 115,
     "metadata": {},
     "output_type": "execute_result"
    }
   ],
   "source": [
    "744*641"
   ]
  },
  {
   "cell_type": "markdown",
   "metadata": {},
   "source": [
    "# STEP 4 :PLOTTING THE ARRAY AS AN IMAGE"
   ]
  },
  {
   "cell_type": "code",
   "execution_count": 139,
   "metadata": {},
   "outputs": [
    {
     "data": {
      "image/png": "[encoded data removed]",
      "text/plain": [
       "<Figure size 1800x720 with 1 Axes>"
      ]
     },
     "metadata": {
      "needs_background": "light"
     },
     "output_type": "display_data"
    }
   ],
   "source": [
    "plt.figure(figsize=(25,10))\n",
    "plt.contourf(XX,YY,labels.reshape(744,641))\n",
    "plt.title('DECISION BOUNDARY OF THE IRIS DATASET')\n",
    "plt.show()\n"
   ]
  },
  {
   "cell_type": "markdown",
   "metadata": {},
   "source": [
    "# STEP 5:PLOTTING ALL THE TRAINING DATA ON THE PLOT"
   ]
  },
  {
   "cell_type": "code",
   "execution_count": 143,
   "metadata": {},
   "outputs": [
    {
     "data": {
      "image/png": "[encoded data removed]",
      "text/plain": [
       "<Figure size 1800x720 with 1 Axes>"
      ]
     },
     "metadata": {
      "needs_background": "light"
     },
     "output_type": "display_data"
    }
   ],
   "source": [
    "plt.figure(figsize=(25,10))\n",
    "plt.contourf(XX,YY,labels.reshape(744,641))\n",
    "plt.scatter(X_train[:,0],X_train[:,1],c=y_train)\n",
    "plt.title('THE TRANING DOTS ON THE DECISION BOUNDARY OF THE IRIS DATASET')\n",
    "plt.show()\n",
    "#these dots are the traing data plotted on the meshgrid where we have drawn our decision boundary"
   ]
  },
  {
   "cell_type": "code",
   "execution_count": null,
   "metadata": {},
   "outputs": [],
   "source": []
  }
 ],
 "metadata": {
  "kernelspec": {
   "display_name": "Python 3",
   "language": "python",
   "name": "python3"
  },
  "language_info": {
   "codemirror_mode": {
    "name": "ipython",
    "version": 3
   },
   "file_extension": ".py",
   "mimetype": "text/x-python",
   "name": "python",
   "nbconvert_exporter": "python",
   "pygments_lexer": "ipython3",
   "version": "3.7.3"
  }
 },
 "nbformat": 4,
 "nbformat_minor": 2
}
